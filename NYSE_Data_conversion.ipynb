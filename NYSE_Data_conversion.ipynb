{
 "cells": [
  {
   "cell_type": "markdown",
   "metadata": {},
   "source": [
    "#  **Spark SQL Application for NYSE Data conversion**"
   ]
  },
  {
   "cell_type": "markdown",
   "metadata": {},
   "source": [
    "## Overview\n",
    "We have collected data in google cloud storage which is in CSV format. Now we want to process it and store it in a databse in table format.\n",
    "we will be creating a python file which contain all queries and using shell script file we will run the python file.\n"
   ]
  },
  {
   "cell_type": "markdown",
   "metadata": {},
   "source": [
    "### Prerequisite required\n",
    "1. Create databrics Worksapce on GCP\n",
    "2. Setup Databrics CLI on your PC\n",
    "3. Connect to GCP\n",
    "4. Have data stored in google cloud filestore.\n",
    "5. connect to GCP databric using CLI and continue with instruction.\n"
   ]
  },
  {
   "attachments": {
    "image.png": {
     "image/png": "[encoded data removed]"
    }
   },
   "cell_type": "markdown",
   "metadata": {},
   "source": [
    "Diagram  \n",
    "![image.png](attachment:image.png)"
   ]
  },
  {
   "cell_type": "markdown",
   "metadata": {},
   "source": [
    "**HDFS** stands for “Hadoop Distributed File System” and is a decentralized file system that stores data across multiple computers in a cluster.\\\n",
    "hdfs - using this we can run command on files, data stored in hdfs.\n"
   ]
  },
  {
   "cell_type": "markdown",
   "metadata": {},
   "source": [
    "In CLI run the below commands."
   ]
  },
  {
   "cell_type": "code",
   "execution_count": null,
   "metadata": {},
   "outputs": [],
   "source": [
    "hdfs -ls /user/itv/nyse\n",
    "hdfs dfs -mkdir -p /user/itv/nyse\n",
    "hdfs dfs -put /home/data/nyse_data /user/itv/nyse"
   ]
  },
  {
   "cell_type": "markdown",
   "metadata": {},
   "source": [
    "<b>hdfs -ls /user/itv/nyse  -></b> to list all the files present at path mentioned\n",
    "\n",
    "> <b>hdfs dfs -mkdir -p /user/itv/nyse - </b>  This is to create directory in hdfs.<br>\n",
    ">*  <b>-mkdir -</b>&nbsp;The mkdir command is used to create new directories<br>\n",
    ">*  <b>-p &nbsp;&nbsp;-</b>&nbsp;&nbsp;&nbsp;&nbsp;&nbsp; In hdfs dfs -mkdir -p  means to create parent directories along the path if they do not exist. <br><span style='color:red;'>For example,</span><span style='color:#0583D2;'> if you run hdfs dfs -mkdir -p /user/itv/nyse, it will create /user, /user/itv and /user/itv/nyse directories if they are not already present.</span>"
   ]
  },
  {
   "cell_type": "markdown",
   "metadata": {},
   "source": [
    "## Create a .sql extension file which contain all these commands.\n",
    "**Name** - nyse_converter_command.sql\\\n",
    "**location** -/home/itv/script/\\\n",
    "File is created on remote server\\\n",
    "sh files are unix (linux) shell executables files."
   ]
  },
  {
   "cell_type": "markdown",
   "metadata": {},
   "source": [
    "<b>This will create a database named nyse_db\n",
    "and to connect to nyse_db database we run USE command.</b><br>\n",
    "command  - *USE nsye_db* "
   ]
  },
  {
   "cell_type": "code",
   "execution_count": null,
   "metadata": {},
   "outputs": [],
   "source": [
    "CREATE DATABASE IF NOT EXIST nyse_db;\n",
    "USE nyse_db"
   ]
  },
  {
   "cell_type": "markdown",
   "metadata": {},
   "source": [
    "><b>Now we create the stage_nyse_table</b><br>\n",
    ">  In this we create table using CSV file. File is located at '/user/itv/nyse' location.\n",
    "> "
   ]
  },
  {
   "cell_type": "code",
   "execution_count": null,
   "metadata": {},
   "outputs": [],
   "source": [
    "CREATE TABLE IF NOT EXISTS stage_nyse_table\n",
    "(\n",
    "ticker STRING,\n",
    "tradedate INT,\n",
    "shop STRIN\n",
    ") USING CSV\n",
    "OPTION\n",
    "(\n",
    "path = '/user/itv/nyse'\n",
    ");\n"
   ]
  },
  {
   "cell_type": "markdown",
   "metadata": {},
   "source": [
    "\n",
    "<b>To validate that table is created from CSV file at location = '/user/itv/nyse'</b>\n",
    "> SELECT-To fetch the records from nyse_table\\\n",
    "> LIMIT - To fetch only top 10 records\\\n",
    "> COUNT- To count the number of record in table nyse_table\n"
   ]
  },
  {
   "cell_type": "code",
   "execution_count": null,
   "metadata": {},
   "outputs": [],
   "source": [
    "SELECT * FROM stage_nyse_table LIMIT 10;\n",
    "SELECT count(*) FROM stage_nyse_table;\n"
   ]
  },
  {
   "cell_type": "markdown",
   "metadata": {},
   "source": [
    "**To group the records based on trademonth column.** <br> we want to group the record of each month in a year. For that we need to fetch the year and month in yyyyMM format from tardedate which is in yyyyMMDD format.\n",
    "> **GROUP BY** - This will group the records in stage_nyse_table table based on trademonth\\\n",
    "> **Order By** - to order the record By Default is in ascending order.\\\n",
    "> **substr(text_val,x,y)** - It will fetch the char from text_val string starting from xth to yth char.\\\n",
    "> e.g. substr(1999701,1,6) - 199970\n"
   ]
  },
  {
   "cell_type": "code",
   "execution_count": null,
   "metadata": {},
   "outputs": [],
   "source": [
    "SELECT substr(tradedate, 1,6) AS trademonth , count(*) AS trademonth\n",
    "FROM stage_nyse_table\n",
    "GROUP BY substr(tradedate,1,6)\n",
    "ORDER BY trademonth;"
   ]
  },
  {
   "cell_type": "markdown",
   "metadata": {},
   "source": [
    "**To create final_nsye_table table**\\\n",
    "&emsp;Uing delta format.\\\n",
    "&emsp;Table is partitioned by trademonth column\\\n",
    "&emsp;To prevent the bellow eror we download that package at the start.\n",
    "> If you encounter with this error\\\n",
    "> ⚠️ <span style='color:red;'><b>Error</b></span> - failed to find data source: DELTA, Please find package at\n",
    "https://spark.apache.org/third-party-projects.html\\\n",
    "**Follow these steps**\n",
    ">\n",
    ">1. On this link go to Infrastructure project heading . In that go to Delta Lake option.\n",
    ">2.New window will open, click on Get started\n",
    ">3. Now you are in another windown which has hqeading gaetting started with delta lake.\n",
    ">4. Here you will find command to set up the delta lake.\n",
    ">\n",
    ">**PySpark shell**\\\n",
    ">&emsp;&emsp;Install the PySpark version that is compatible with the Delta Lake version by running the following:\n",
    ">\n",
    "> &emsp;**Copy**<br>\n",
    "> &emsp;&emsp;&emsp; pip install pyspark== \\<*compatible-spark-version*\\>\n",
    ">\n",
    ">**Run PySpark with the Delta Lake package and additional configurations:**\n",
    ">\n",
    ">&emsp;**Copy**\\\n",
    ">&emsp;&emsp;&emsp;saprk-sql --packages io.delta:delta-core_2.12:2.1.0 \\\n",
    "  &emsp;&emsp;&emsp;--conf \"spark.sql.extensions=io.delta.sql.DeltaSparkSessionExtension\" \\\n",
    "  &emsp;&emsp;&emsp;--conf \"spark.sql.catalog.spark_catalog=org.apache.spark.sql.delta.catalog.DeltaCatalog\""
   ]
  },
  {
   "cell_type": "code",
   "execution_count": null,
   "metadata": {},
   "outputs": [],
   "source": [
    "CREATE TABLE IF NOT EXISTS final_nyse_table\n",
    "(\n",
    "ticker STRING,\n",
    "tradedate INT,\n",
    "shop STRING\n",
    ") USING DELTA\n",
    "PARTITIONED BY (trandemonth INT)"
   ]
  },
  {
   "cell_type": "markdown",
   "metadata": {},
   "source": [
    "<b>To insert data from stage_nyse_table to final_nyse_table"
   ]
  },
  {
   "cell_type": "code",
   "execution_count": null,
   "metadata": {},
   "outputs": [],
   "source": [
    "INSERT INTO TABLE final_nyse_table PARTITION BY (trademonth)\n",
    "SELECT ns.*, subtr(tradedate, 1,6) AS trademonth FROM stage_nyse_table AS ns;"
   ]
  },
  {
   "cell_type": "markdown",
   "metadata": {},
   "source": [
    "<b>To validate that data is stored properly"
   ]
  },
  {
   "cell_type": "code",
   "execution_count": null,
   "metadata": {},
   "outputs": [],
   "source": [
    "SELECT count(*) FROM stage_nyse_table;\n",
    "\n",
    "SELECT count(*) FROM final_nyse_table;\n",
    "\n",
    "SELECT substr(trademonth,1,4) AS tradeyear,count (*) AS tradecount \n",
    "FROM final_nyse_table\n",
    "GROUP BY tradeyear;"
   ]
  },
  {
   "cell_type": "markdown",
   "metadata": {},
   "source": [
    "### **Create a shell script file named nyse_convertor.sh which contain below commands**\n"
   ]
  },
  {
   "cell_type": "markdown",
   "metadata": {},
   "source": [
    "Warehouse Directory is the base directory where directories related to databases, tables go by default. spark.sql.warehouse.dir this has location which has default path.\\\n",
    "\\\n",
    "To set own data warehouse instead of default one we use *--conf spark.sql.warehouse.dir*\\\n",
    "This should done at starting of spark sql."
   ]
  },
  {
   "cell_type": "code",
   "execution_count": null,
   "metadata": {},
   "outputs": [],
   "source": [
    "spark-sql --conf spark.sql.warehouse.dir = /user/path/warehouse"
   ]
  },
  {
   "cell_type": "markdown",
   "metadata": {},
   "source": [
    "it will download the package of files that support delta tbale."
   ]
  },
  {
   "cell_type": "markdown",
   "metadata": {},
   "source": [
    "**To prevent this error when we will create delta format table. we downlod the package to support the delta table.**\\\n",
    " ⚠️ <span style='color:red;'><b>Error</b></span> - failed to find data source: DELTA, Please find package at\n",
    "https://spark.apache.org/third-party-projects.html\\"
   ]
  },
  {
   "cell_type": "code",
   "execution_count": null,
   "metadata": {},
   "outputs": [],
   "source": [
    "saprk-sql --packages io.delta:delta-core_2.12:2.1.0 \\\n",
    "  --conf \"spark.sql.extensions=io.delta.sql.DeltaSparkSessionExtension\" \\\n",
    "  --conf \"spark.sql.catalog.spark_catalog=org.apache.spark.sql.delta.catalog.DeltaCatalog\""
   ]
  },
  {
   "cell_type": "markdown",
   "metadata": {},
   "source": [
    "**To run the script file nyse_converter_command.sql which contain all the queries. we use -f.**\\\n",
    "&emsp; **spark-sql** is a module of Apache Spark that allows you to query structured data using SQL \\\n",
    "&emsp; **-f** option is used to specify a file containing SQL queries to execute\\\n",
    "&emsp; **--verbose** will help to know which command during execution of script file is running from script file and will give output with that.\n",
    "\n"
   ]
  },
  {
   "cell_type": "code",
   "execution_count": null,
   "metadata": {},
   "outputs": [],
   "source": [
    "spark-sql -f /home/itv/script/nyse_converter_command.sql --verbode"
   ]
  },
  {
   "cell_type": "markdown",
   "metadata": {},
   "source": [
    "### **To run the shell script file**"
   ]
  },
  {
   "cell_type": "markdown",
   "metadata": {},
   "source": [
    "If there are no excute permession on file than we have to execute command to give permissions\\\n",
    "First go to directory where this script file is present\n"
   ]
  },
  {
   "cell_type": "code",
   "execution_count": null,
   "metadata": {},
   "outputs": [],
   "source": [
    "chmod u+x nyse_converter.sh"
   ]
  },
  {
   "cell_type": "markdown",
   "metadata": {},
   "source": [
    "Go to folder where file is present and then run command to execute the file."
   ]
  },
  {
   "cell_type": "code",
   "execution_count": null,
   "metadata": {},
   "outputs": [],
   "source": [
    "./nyse_converter.sh"
   ]
  }
 ],
 "metadata": {
  "kernelspec": {
   "display_name": ".env",
   "language": "python",
   "name": "python3"
  },
  "language_info": {
   "codemirror_mode": {
    "name": "ipython",
    "version": 3
   },
   "file_extension": ".py",
   "mimetype": "text/x-python",
   "name": "python",
   "nbconvert_exporter": "python",
   "pygments_lexer": "ipython3",
   "version": "3.9.13"
  },
  "orig_nbformat": 4
 },
 "nbformat": 4,
 "nbformat_minor": 2
}
